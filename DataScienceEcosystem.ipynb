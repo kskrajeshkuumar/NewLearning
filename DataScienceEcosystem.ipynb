{
 "cells": [
  {
   "cell_type": "markdown",
   "id": "35161611-99f3-423b-aa1a-ff088ba742be",
   "metadata": {},
   "source": [
    "# Data Science Tools and Ecosystem"
   ]
  },
  {
   "cell_type": "markdown",
   "id": "57845e55-571b-4ed2-a035-ff6a5e7fb359",
   "metadata": {},
   "source": [
    "The notebook titled \"Data Science Tools and Ecosystem\" provides an overview and exploration of various tools, technologies, and frameworks that form the foundation of the data science field, offering insights into the essential components and resources utilized by data scientists."
   ]
  },
  {
   "cell_type": "markdown",
   "id": "0796c848-d4a3-4c06-9d74-d16b4180c361",
   "metadata": {},
   "source": [
    "### Some of the popular languages that Data Scientists use are:\n",
    "\n",
    "1. Python\n",
    "2. R\n",
    "3. SQL"
   ]
  },
  {
   "cell_type": "markdown",
   "id": "17726372-484d-4cdc-8a68-303606b06e5d",
   "metadata": {},
   "source": [
    "### Commonly Used Data Science Libraries\n",
    "\n",
    "1. NumPy\n",
    "2. Pandas\n",
    "3. Scikit-learn"
   ]
  },
  {
   "cell_type": "markdown",
   "id": "7ca7f789-ec85-4f9d-ba8f-f6c798a747be",
   "metadata": {},
   "source": [
    "| Data Science Tools |\n",
    "| ----------------- |\n",
    "| Jupyter Notebook  |\n",
    "| RStudio           |\n",
    "| Visual Studio Code|\n"
   ]
  },
  {
   "cell_type": "markdown",
   "id": "6fb69a48-209b-4e4f-853c-6dd6b6bef5c3",
   "metadata": {},
   "source": [
    "### Evaluating Arithmetic Expressions in Python\n",
    "\n",
    "Below are a few examples of evaluating arithmetic expressions in Python:\n",
    "\n",
    "1. Addition: \n",
    "     A = 2 + 3\n",
    "   print(A)\n",
    "   \n",
    "2. Subtraction:\n",
    "    B = 8 - 5\n",
    "    print(B)\n"
   ]
  },
  {
   "cell_type": "code",
   "execution_count": 1,
   "id": "9abd6d24-6706-401b-a292-30fbbfe267c2",
   "metadata": {
    "tags": []
   },
   "outputs": [
    {
     "name": "stdout",
     "output_type": "stream",
     "text": [
      "17\n"
     ]
    }
   ],
   "source": [
    "# This is a simple arithmetic expression to multiply then add integers.\n",
    "result = (3 * 4) + 5\n",
    "print(result)  # Output: 17"
   ]
  },
  {
   "cell_type": "code",
   "execution_count": 4,
   "id": "987699d2-da9d-4a41-b9f5-f5ba0cc03488",
   "metadata": {
    "tags": []
   },
   "outputs": [
    {
     "name": "stdout",
     "output_type": "stream",
     "text": [
      "3.3333333333333335\n"
     ]
    }
   ],
   "source": [
    "# This will convert 200 minutes to hours by dividing by 60.\n",
    "minutes = 200\n",
    "hours = minutes / 60\n",
    "print(hours)"
   ]
  },
  {
   "cell_type": "markdown",
   "id": "77bf2b07-699d-4f35-86ab-ec39322eae54",
   "metadata": {},
   "source": [
    "## Objectives\n",
    "\n",
    "- Explore the fundamental concepts of data science.\n",
    "- Understand the importance of data preprocessing and cleaning.\n",
    "- Learn about popular machine learning algorithms and their applications.\n",
    "- Gain hands-on experience in implementing data science tasks using Python and relevant libraries.\n",
    "- Discover best practices for data visualization and storytelling with data.\n",
    "\n",
    "## Objectives\n",
    "\n",
    "- List popular languages for Data Science.\n",
    "- Explore commonly used libraries in data science.\n",
    "- Demonstrate arithmetic expression evaluation in Python.\n"
   ]
  },
  {
   "cell_type": "markdown",
   "id": "04ef077b-87d2-48a2-a8d5-9c3b8f5161c9",
   "metadata": {},
   "source": [
    "## Author\n",
    "\n",
    "Author: Lakshmi Holla\n",
    "        Niveditha Pandith\n",
    "    \n",
    "Name : KSK Rajesh Kuumar"
   ]
  },
  {
   "cell_type": "code",
   "execution_count": null,
   "id": "3d66830e-84cc-4d08-9448-2ca63bad0f3a",
   "metadata": {},
   "outputs": [],
   "source": []
  }
 ],
 "metadata": {
  "kernelspec": {
   "display_name": "Python",
   "language": "python",
   "name": "conda-env-python-py"
  },
  "language_info": {
   "codemirror_mode": {
    "name": "ipython",
    "version": 3
   },
   "file_extension": ".py",
   "mimetype": "text/x-python",
   "name": "python",
   "nbconvert_exporter": "python",
   "pygments_lexer": "ipython3",
   "version": "3.7.12"
  }
 },
 "nbformat": 4,
 "nbformat_minor": 5
}
